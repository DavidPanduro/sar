{
 "cells": [
  {
   "cell_type": "markdown",
   "metadata": {},
   "source": [
    "# Previsão de Alta Complexidade de casos SAR"
   ]
  },
  {
   "cell_type": "markdown",
   "metadata": {},
   "source": [
    "SAR (Sindrome aguda respiratória) "
   ]
  },
  {
   "cell_type": "markdown",
   "metadata": {
    "heading_collapsed": true
   },
   "source": [
    "# Imports"
   ]
  },
  {
   "cell_type": "code",
   "execution_count": 1,
   "metadata": {
    "ExecuteTime": {
     "end_time": "2022-10-12T15:39:23.661862Z",
     "start_time": "2022-10-12T15:39:19.774440Z"
    },
    "hidden": true,
    "id": "-4ZsJeBBtQjm"
   },
   "outputs": [],
   "source": [
    "import pandas as pd \n",
    "\n",
    "import pandas as pd\n",
    "import math\n",
    "import numpy as np\n",
    "import inflection\n",
    "import seaborn as sns \n",
    "import matplotlib.pyplot as plt\n",
    "import matplotlib.gridspec as gridspec\n",
    "import xgboost as xgb\n",
    "import datetime"
   ]
  },
  {
   "cell_type": "markdown",
   "metadata": {
    "heading_collapsed": true,
    "hidden": true
   },
   "source": [
    "## Funções Auxiliares"
   ]
  },
  {
   "cell_type": "code",
   "execution_count": 2,
   "metadata": {
    "ExecuteTime": {
     "end_time": "2022-10-12T15:39:23.676854Z",
     "start_time": "2022-10-12T15:39:23.666860Z"
    },
    "hidden": true,
    "id": "qDZUTOD8ufLa"
   },
   "outputs": [],
   "source": [
    "# mostrar todas as colunas\n",
    "pd.set_option('display.max_columns', None)"
   ]
  },
  {
   "cell_type": "markdown",
   "metadata": {},
   "source": [
    "# Descrição dos Dados"
   ]
  },
  {
   "cell_type": "markdown",
   "metadata": {
    "heading_collapsed": true
   },
   "source": [
    "## Carga dos Dados"
   ]
  },
  {
   "cell_type": "code",
   "execution_count": 3,
   "metadata": {
    "ExecuteTime": {
     "end_time": "2022-10-12T15:39:26.483094Z",
     "start_time": "2022-10-12T15:39:23.679852Z"
    },
    "colab": {
     "base_uri": "https://localhost:8080/"
    },
    "hidden": true,
    "id": "C4OKVvGbtTuQ",
    "outputId": "e56d6cc7-f370-4740-f749-924da262977b"
   },
   "outputs": [],
   "source": [
    "# Lendo CSV \n",
    "df = pd.read_csv('C:/Users/Dell/Documents/Modelos/sar/csv/alto_risco_sagr.csv', engine=\"python\", sep=',', quotechar='\"', error_bad_lines=False)"
   ]
  },
  {
   "cell_type": "code",
   "execution_count": 4,
   "metadata": {
    "ExecuteTime": {
     "end_time": "2022-10-12T15:39:26.544568Z",
     "start_time": "2022-10-12T15:39:26.496592Z"
    },
    "hidden": true
   },
   "outputs": [],
   "source": [
    "df = df.loc[:, ~df.columns.str.contains('^Unnamed')] "
   ]
  },
  {
   "cell_type": "code",
   "execution_count": 5,
   "metadata": {
    "ExecuteTime": {
     "end_time": "2022-10-12T15:39:26.575585Z",
     "start_time": "2022-10-12T15:39:26.548565Z"
    },
    "colab": {
     "base_uri": "https://localhost:8080/",
     "height": 496
    },
    "hidden": true,
    "id": "2CgDZMHBtikC",
    "outputId": "8aee68eb-6de4-499c-ada7-22a60f34ee50"
   },
   "outputs": [
    {
     "data": {
      "text/plain": [
       "(52653, 41)"
      ]
     },
     "execution_count": 5,
     "metadata": {},
     "output_type": "execute_result"
    }
   ],
   "source": [
    "df.shape "
   ]
  },
  {
   "cell_type": "markdown",
   "metadata": {
    "heading_collapsed": true
   },
   "source": [
    "## Renomear Colunas"
   ]
  },
  {
   "cell_type": "code",
   "execution_count": 6,
   "metadata": {
    "ExecuteTime": {
     "end_time": "2022-10-12T15:39:26.605567Z",
     "start_time": "2022-10-12T15:39:26.579582Z"
    },
    "hidden": true,
    "id": "tDfGAX5HhyAW"
   },
   "outputs": [],
   "source": [
    "cols_old = ['DT_NOTIFIC', 'SEM_NOT', 'DT_SIN_PRI', 'SEM_PRI', 'SG_UF_NOT',\n",
    "       'ID_MUNICIP', 'CS_SEXO', 'NU_IDADE_N', 'CS_GESTANT', 'CS_RACA',\n",
    "       'CS_ZONA', 'NOSOCOMIAL', 'FEBRE', 'TOSSE', 'GARGANTA', 'DISPNEIA',\n",
    "       'DESC_RESP', 'SATURACAO', 'DIARREIA', 'VOMITO', 'CARDIOPATI',\n",
    "       'HEMATOLOGI', 'SIND_DOWN', 'HEPATICA', 'ASMA', 'DIABETES', 'NEUROLOGIC',\n",
    "       'PNEUMOPATI', 'IMUNODEPRE', 'RENAL', 'OBESIDADE', 'VACINA', 'ANTIVIRAL',\n",
    "       'RAIOX_RES', 'PCR_RESUL', 'EVOLUCAO', 'DOR_ABD', 'FADIGA', 'PERD_OLFT',\n",
    "       'PERD_PALA', 'VACINA_COV']\n",
    "snakecase = lambda x: inflection.underscore(x) \n",
    "cols_new = list(map(snakecase, cols_old)) \n",
    "#rename \n",
    "df.columns = cols_new "
   ]
  },
  {
   "cell_type": "markdown",
   "metadata": {
    "ExecuteTime": {
     "end_time": "2022-10-12T15:32:53.148490Z",
     "start_time": "2022-10-12T15:32:53.129496Z"
    },
    "heading_collapsed": true
   },
   "source": [
    "## Dimensão Dataset"
   ]
  },
  {
   "cell_type": "code",
   "execution_count": 8,
   "metadata": {
    "ExecuteTime": {
     "end_time": "2022-10-12T15:39:50.616994Z",
     "start_time": "2022-10-12T15:39:50.576014Z"
    },
    "hidden": true
   },
   "outputs": [
    {
     "name": "stdout",
     "output_type": "stream",
     "text": [
      "Numero de filas: 52653\n",
      "Numero de colunas: 41\n",
      "\n",
      "Os Targets representam 27.60% do dataset.\n",
      "\n"
     ]
    }
   ],
   "source": [
    "print('Numero de filas: {}'.format(df.shape[0])) \n",
    "print('Numero de colunas: {}'.format(df.shape[1])) \n",
    "print(\"\\nOs Targets representam {:.2f}% do dataset.\\n\".format((df[df.evolucao == 1].shape[0] / df.shape[0]) * 100))"
   ]
  },
  {
   "cell_type": "markdown",
   "metadata": {
    "heading_collapsed": true
   },
   "source": [
    "## Tipo Dados"
   ]
  },
  {
   "cell_type": "code",
   "execution_count": 12,
   "metadata": {
    "ExecuteTime": {
     "end_time": "2022-10-12T15:44:48.393157Z",
     "start_time": "2022-10-12T15:44:48.375165Z"
    },
    "hidden": true
   },
   "outputs": [
    {
     "data": {
      "text/plain": [
       "dt_notific    datetime64[ns]\n",
       "sem_not                int64\n",
       "dt_sin_pri    datetime64[ns]\n",
       "sem_pri                int64\n",
       "sg_uf_not             object\n",
       "id_municip            object\n",
       "cs_sexo               object\n",
       "nu_idade_n             int64\n",
       "cs_gestant             int64\n",
       "cs_raca                int64\n",
       "cs_zona              float64\n",
       "nosocomial           float64\n",
       "febre                float64\n",
       "tosse                float64\n",
       "garganta             float64\n",
       "dispneia             float64\n",
       "desc_resp            float64\n",
       "saturacao            float64\n",
       "diarreia             float64\n",
       "vomito               float64\n",
       "cardiopati           float64\n",
       "hematologi           float64\n",
       "sind_down            float64\n",
       "hepatica             float64\n",
       "asma                 float64\n",
       "diabetes             float64\n",
       "neurologic           float64\n",
       "pneumopati           float64\n",
       "imunodepre           float64\n",
       "renal                float64\n",
       "obesidade            float64\n",
       "vacina               float64\n",
       "antiviral            float64\n",
       "raiox_res            float64\n",
       "pcr_resul            float64\n",
       "evolucao               int64\n",
       "dor_abd              float64\n",
       "fadiga               float64\n",
       "perd_olft            float64\n",
       "perd_pala            float64\n",
       "vacina_cov           float64\n",
       "dtype: object"
      ]
     },
     "execution_count": 12,
     "metadata": {},
     "output_type": "execute_result"
    }
   ],
   "source": [
    "df.dtypes "
   ]
  },
  {
   "cell_type": "markdown",
   "metadata": {
    "ExecuteTime": {
     "end_time": "2022-10-12T15:39:30.641176Z",
     "start_time": "2022-10-12T15:39:30.641176Z"
    },
    "heading_collapsed": true
   },
   "source": [
    "## Modificando Tipo Data"
   ]
  },
  {
   "cell_type": "code",
   "execution_count": 11,
   "metadata": {
    "ExecuteTime": {
     "end_time": "2022-10-12T15:44:44.808685Z",
     "start_time": "2022-10-12T15:44:44.759311Z"
    },
    "hidden": true
   },
   "outputs": [],
   "source": [
    "df['dt_notific'] = pd.to_datetime(df['dt_notific'])\n",
    "df['dt_sin_pri'] = pd.to_datetime(df['dt_sin_pri'])\n"
   ]
  },
  {
   "cell_type": "markdown",
   "metadata": {
    "heading_collapsed": true
   },
   "source": [
    "## Identificando NA "
   ]
  },
  {
   "cell_type": "code",
   "execution_count": 13,
   "metadata": {
    "ExecuteTime": {
     "end_time": "2022-10-12T15:45:37.485687Z",
     "start_time": "2022-10-12T15:45:37.437715Z"
    },
    "hidden": true
   },
   "outputs": [
    {
     "data": {
      "text/plain": [
       "dt_notific        0\n",
       "sem_not           0\n",
       "dt_sin_pri        0\n",
       "sem_pri           0\n",
       "sg_uf_not         0\n",
       "id_municip        0\n",
       "cs_sexo           0\n",
       "nu_idade_n        0\n",
       "cs_gestant        0\n",
       "cs_raca           0\n",
       "cs_zona        3043\n",
       "nosocomial     9787\n",
       "febre          6075\n",
       "tosse          3926\n",
       "garganta      11483\n",
       "dispneia       3544\n",
       "desc_resp      6979\n",
       "saturacao      4794\n",
       "diarreia      11500\n",
       "vomito        11810\n",
       "cardiopati    24902\n",
       "hematologi    29325\n",
       "sind_down     29395\n",
       "hepatica      29405\n",
       "asma          28975\n",
       "diabetes      26315\n",
       "neurologic    29023\n",
       "pneumopati    28939\n",
       "imunodepre    29236\n",
       "renal         28992\n",
       "obesidade     28368\n",
       "vacina        13842\n",
       "antiviral      9349\n",
       "raiox_res     16323\n",
       "pcr_resul      4500\n",
       "evolucao          0\n",
       "dor_abd       12656\n",
       "fadiga        11009\n",
       "perd_olft     12302\n",
       "perd_pala     12282\n",
       "vacina_cov    12537\n",
       "dtype: int64"
      ]
     },
     "execution_count": 13,
     "metadata": {},
     "output_type": "execute_result"
    }
   ],
   "source": [
    "df.isnull().sum()"
   ]
  },
  {
   "cell_type": "code",
   "execution_count": null,
   "metadata": {
    "hidden": true
   },
   "outputs": [],
   "source": []
  },
  {
   "cell_type": "code",
   "execution_count": null,
   "metadata": {
    "hidden": true
   },
   "outputs": [],
   "source": []
  },
  {
   "cell_type": "code",
   "execution_count": null,
   "metadata": {
    "hidden": true
   },
   "outputs": [],
   "source": []
  },
  {
   "cell_type": "code",
   "execution_count": null,
   "metadata": {
    "hidden": true
   },
   "outputs": [],
   "source": []
  },
  {
   "cell_type": "code",
   "execution_count": null,
   "metadata": {
    "hidden": true
   },
   "outputs": [],
   "source": []
  },
  {
   "cell_type": "code",
   "execution_count": null,
   "metadata": {
    "hidden": true
   },
   "outputs": [],
   "source": []
  },
  {
   "cell_type": "code",
   "execution_count": null,
   "metadata": {
    "colab": {
     "base_uri": "https://localhost:8080/"
    },
    "hidden": true,
    "id": "uUPUphj6PQpW",
    "outputId": "437840ab-f94a-4c7d-c739-6b712e262d3b"
   },
   "outputs": [],
   "source": [
    "# Dimensão\n",
    "\n",
    "df_total.shape"
   ]
  },
  {
   "cell_type": "code",
   "execution_count": null,
   "metadata": {
    "colab": {
     "base_uri": "https://localhost:8080/"
    },
    "hidden": true,
    "id": "Sco2Tqv7bWnG",
    "outputId": "f7fe233a-8738-4e04-9c62-5182580c517a"
   },
   "outputs": [],
   "source": [
    "df_total['EVOLUCAO'].unique()"
   ]
  },
  {
   "cell_type": "code",
   "execution_count": null,
   "metadata": {
    "hidden": true,
    "id": "TqqdLZZ0cKdv"
   },
   "outputs": [],
   "source": [
    "# Apagando filas\n",
    "\n",
    "df_total.drop(df_total.loc[df_total['EVOLUCAO']=='13/01/2022'].index, inplace=True)\n",
    "df_total.drop(df_total.loc[df_total['EVOLUCAO']=='25/11/2021'].index, inplace=True)\n",
    "df_total.drop(df_total.loc[df_total['EVOLUCAO']=='NECA\"'].index, inplace=True)"
   ]
  },
  {
   "cell_type": "code",
   "execution_count": null,
   "metadata": {
    "colab": {
     "base_uri": "https://localhost:8080/"
    },
    "hidden": true,
    "id": "eGZhGv1edOXQ",
    "outputId": "e7199a25-ee0b-40e0-c252-4cbab31003fb"
   },
   "outputs": [],
   "source": [
    "# Olhando os dados da coluna EVOLUCAO\n",
    "\n",
    "df_total['EVOLUCAO'].unique()"
   ]
  },
  {
   "cell_type": "code",
   "execution_count": null,
   "metadata": {
    "hidden": true,
    "id": "0pdIuilVdOZ_"
   },
   "outputs": [],
   "source": [
    "# Convertemos pra númerico\n",
    "\n",
    "df_total['EVOLUCAO'] = pd.to_numeric(df_total['EVOLUCAO']) "
   ]
  },
  {
   "cell_type": "code",
   "execution_count": null,
   "metadata": {
    "hidden": true,
    "id": "_Iaq6Ei0dOc1"
   },
   "outputs": [],
   "source": [
    "# Filtrando variável alvo\n",
    "\n",
    "df = df_total.loc[(df_total.EVOLUCAO==1) | (df_total.EVOLUCAO==2)]"
   ]
  },
  {
   "cell_type": "code",
   "execution_count": null,
   "metadata": {
    "colab": {
     "base_uri": "https://localhost:8080/"
    },
    "hidden": true,
    "id": "ihlJHDB-dOfc",
    "outputId": "fc265a2f-423c-410d-dccf-00900e811dcb"
   },
   "outputs": [],
   "source": [
    "df.shape"
   ]
  },
  {
   "cell_type": "code",
   "execution_count": null,
   "metadata": {
    "colab": {
     "base_uri": "https://localhost:8080/"
    },
    "hidden": true,
    "id": "NSDDUdXad4g8",
    "outputId": "a8644c59-54a5-4dd1-8c06-30e726fba5cd"
   },
   "outputs": [],
   "source": [
    "df['EVOLUCAO'].unique()"
   ]
  },
  {
   "cell_type": "code",
   "execution_count": null,
   "metadata": {
    "colab": {
     "base_uri": "https://localhost:8080/"
    },
    "hidden": true,
    "id": "5ZrXpePrfcOo",
    "outputId": "65286e1a-406f-4635-e30e-aa16014e7b2a"
   },
   "outputs": [],
   "source": [
    "# reemplazando dados\n",
    "\n",
    "df['EVOLUCAO'] = df['EVOLUCAO'].map({1.:0, 2.:1,},\n",
    "                             na_action=None)"
   ]
  },
  {
   "cell_type": "code",
   "execution_count": null,
   "metadata": {
    "colab": {
     "base_uri": "https://localhost:8080/"
    },
    "hidden": true,
    "id": "T7I1D00qevPu",
    "outputId": "29ce9153-cf59-4c62-be47-5d7b95a975ec"
   },
   "outputs": [],
   "source": [
    "# Proporção das clases\n",
    "\n",
    "print(df.EVOLUCAO.value_counts())\n",
    "print(\"\\nOs Targets representam {:.2f}% do dataset.\\n\".format((df[df.EVOLUCAO == 1].shape[0] / df.shape[0]) * 100))"
   ]
  },
  {
   "cell_type": "code",
   "execution_count": null,
   "metadata": {
    "colab": {
     "base_uri": "https://localhost:8080/"
    },
    "hidden": true,
    "id": "0ffnkpIk1KpU",
    "outputId": "a30083fa-ac0e-4e95-a15d-5f78f7447417"
   },
   "outputs": [],
   "source": [
    "df.info()"
   ]
  },
  {
   "cell_type": "code",
   "execution_count": null,
   "metadata": {
    "ExecuteTime": {
     "end_time": "2022-10-12T14:08:26.212273Z",
     "start_time": "2022-10-12T14:08:26.161655Z"
    },
    "hidden": true,
    "id": "K7jty3DGQohw"
   },
   "outputs": [],
   "source": [
    "# Seleção de Colunas\n",
    "\n",
    "cols_drop = ['CO_REGIONA', 'CO_MUN_NOT','CO_UNI_NOT','TP_IDADE','COD_IDADE',\n",
    "              'CO_PAIS','CO_RG_RESI','CO_MUN_RES','LOTE_REF','LAB_PR_COV',\n",
    "              'LOTE_1_COV','LOTE_2_COV','FNT_IN_COV', \n",
    "              'ID_UNIDADE', 'CO_UNI_NOT', 'ID_REGIONA', 'CO_REGIONA', 'TP_IDADE',                 \n",
    "              'ID_PAIS', 'CO_PAIS', 'OUT_ANIM', 'OUTRO_DES', 'ID_RG_INTE', 'CO_RG_INTE', 'ID_MN_INTE', 'CO_MU_INTE',\n",
    "              'DT_SAIDUTI','TOMO_OUT', 'AMOSTRA', 'DT_COLETA', 'TP_AMOSTRA', 'OUT_AMOST',  'TP_TES_AN',\n",
    "              'DT_RES_AN', 'RES_AN','POS_AN_OUT', 'AN_SARS2', 'AN_VSR', 'AN_PARA1','AN_PARA2',\n",
    "              'AN_PARA3', 'AN_ADENO', 'AN_OUTRO', 'DS_AN_OUT', 'DT_PCR','TP_FLU_PCR']"
   ]
  },
  {
   "cell_type": "code",
   "execution_count": null,
   "metadata": {
    "hidden": true,
    "id": "1wrpgsN2khAF"
   },
   "outputs": [],
   "source": [
    "df1 = df.drop(cols_drop, axis=1) "
   ]
  },
  {
   "cell_type": "code",
   "execution_count": null,
   "metadata": {
    "colab": {
     "base_uri": "https://localhost:8080/"
    },
    "hidden": true,
    "id": "5tGlArssko64",
    "outputId": "473f0c89-38ab-414d-d231-8cc2f950e627"
   },
   "outputs": [],
   "source": [
    "df1.shape "
   ]
  },
  {
   "cell_type": "code",
   "execution_count": null,
   "metadata": {
    "hidden": true,
    "id": "pvm4JLdskqjA"
   },
   "outputs": [],
   "source": [
    "# Limitar ao estado de PE e MG\n",
    "df_states = df1.loc[(df1.SG_UF_NOT=='PE')|(df1.SG_UF_NOT=='MG')] "
   ]
  },
  {
   "cell_type": "code",
   "execution_count": null,
   "metadata": {
    "colab": {
     "base_uri": "https://localhost:8080/"
    },
    "hidden": true,
    "id": "m73-SdF0lCsi",
    "outputId": "48a82b82-c05d-4703-f477-45778de442b8"
   },
   "outputs": [],
   "source": [
    "df_states.shape "
   ]
  },
  {
   "cell_type": "code",
   "execution_count": null,
   "metadata": {
    "colab": {
     "base_uri": "https://localhost:8080/"
    },
    "hidden": true,
    "id": "CPHcnW4rlEWu",
    "outputId": "acd2b8fd-ce2a-497b-9c26-2e5d60997b41"
   },
   "outputs": [],
   "source": [
    "# Proporção das clases\n",
    "\n",
    "print(df_states.EVOLUCAO.value_counts())\n",
    "print(\"\\nOs Targets representam {:.2f}% do dataset.\\n\".format((df_states[df_states.EVOLUCAO == 1].shape[0] / df_states.shape[0]) * 100))"
   ]
  },
  {
   "cell_type": "code",
   "execution_count": null,
   "metadata": {
    "hidden": true,
    "id": "ofuokGZRWiSj"
   },
   "outputs": [],
   "source": [
    "# Guardar CSV filtrado\n",
    "\n",
    "#df_states.to_csv('alta_complexidade_sagr.csv')\n"
   ]
  },
  {
   "cell_type": "code",
   "execution_count": null,
   "metadata": {
    "colab": {
     "base_uri": "https://localhost:8080/"
    },
    "hidden": true,
    "id": "bGbBvE6TYoDc",
    "outputId": "4543bac4-2f9d-4daf-9332-bea2074bb8ed"
   },
   "outputs": [],
   "source": [
    "# Carregando CSV\n",
    "\n",
    "df_filtrado = pd.read_csv('alta_complexidade_sagr.csv')"
   ]
  },
  {
   "cell_type": "code",
   "execution_count": null,
   "metadata": {
    "colab": {
     "base_uri": "https://localhost:8080/"
    },
    "hidden": true,
    "id": "JUFtjNpCZOCq",
    "outputId": "84c8bc45-d938-48c1-cbb4-49f07ea4a8f8"
   },
   "outputs": [],
   "source": [
    "df_filtrado.shape"
   ]
  },
  {
   "cell_type": "code",
   "execution_count": null,
   "metadata": {
    "colab": {
     "base_uri": "https://localhost:8080/",
     "height": 357
    },
    "hidden": true,
    "id": "SHJdDOPDZOFl",
    "outputId": "5f3bd2ba-f772-4f74-9ee0-a41472d196bb"
   },
   "outputs": [],
   "source": [
    "df_filtrado.head()"
   ]
  },
  {
   "cell_type": "code",
   "execution_count": null,
   "metadata": {
    "hidden": true,
    "id": "6Hdoa7v0ZOIb"
   },
   "outputs": [],
   "source": [
    "cols_drop = ['DT_NASC', 'SG_UF', 'ID_RG_RESI', 'ID_MN_RESI', 'DOSE_2_COV', \n",
    "             'DOSE_REF', 'FAB_COV_1', 'FAB_COV_2', 'FAB_COVREF','RES_IGM', 'AVE_SUINO', \n",
    "             'RES_IGA', 'DOSE_1_COV', 'OUT_SOR', 'DT_RES', 'RES_IGG', 'SOR_OUT', 'CS_ESCOL_N',\n",
    "             'DT_CO_SOR', 'TP_SOR','TP_FLU_AN', 'POS_AN_FLU', 'TP_AM_SOR','TOMO_RES', 'DT_TOMO','ESTRANG', 'PCR_FLUBLI'\n",
    "              ,'FLUBLI_OUT','PCR_PARA1','PCR_PARA2','PCR_PARA3','PCR_PARA4','PCR_ADENO','PCR_METAP','PCR_BOCA','PCR_RINO'\n",
    "              ,'PCR_OUTRO','DS_PCR_OUT','CLASSI_OUT','PAIS_VGM','CO_PS_VGM','LO_PS_VGM','DT_VGM','DT_RT_VGM','PAC_COCBO','PAC_DSCBO',\n",
    "             'SURTO_SG','OBES_IMC','MORB_DESC','DT_UT_DOSE','MAE_VAC','MAE_VAC','M_AMAMENTA','DT_DOSEUNI','DT_1_DOSE','DT_2_DOSE','TP_ANTIVIR','OUT_ANTIV',\n",
    "              'DT_ANTIVIR','DT_ENTUTI','RAIOX_OUT','PCR_FLUASU','FLUASU_OUT','PCR_VSR','DT_VAC_MAE','PUERPERA']"
   ]
  },
  {
   "cell_type": "code",
   "execution_count": null,
   "metadata": {
    "hidden": true,
    "id": "IitlYTmqZONX"
   },
   "outputs": [],
   "source": [
    "df_f1 = df_filtrado.drop(cols_drop, axis=1) "
   ]
  },
  {
   "cell_type": "code",
   "execution_count": null,
   "metadata": {
    "hidden": true,
    "id": "LThUKbmUZYdt"
   },
   "outputs": [],
   "source": [
    "df_f1 = df_f1.loc[:, ~df_f1.columns.str.contains('^Unnamed')]"
   ]
  },
  {
   "cell_type": "code",
   "execution_count": null,
   "metadata": {
    "colab": {
     "base_uri": "https://localhost:8080/"
    },
    "hidden": true,
    "id": "ryYExwpOSTXI",
    "outputId": "076d927d-4313-4694-d2c6-2e616f1b79df"
   },
   "outputs": [],
   "source": [
    "df_f1.shape"
   ]
  },
  {
   "cell_type": "code",
   "execution_count": null,
   "metadata": {
    "colab": {
     "base_uri": "https://localhost:8080/",
     "height": 340
    },
    "hidden": true,
    "id": "tY2F20ToZYju",
    "outputId": "14ee4ecd-88c8-4f59-ef46-d7b4dbd86aca"
   },
   "outputs": [],
   "source": [
    "df_f1.head()"
   ]
  },
  {
   "cell_type": "code",
   "execution_count": null,
   "metadata": {
    "colab": {
     "base_uri": "https://localhost:8080/"
    },
    "hidden": true,
    "id": "CJedcE-FZYqq",
    "outputId": "9fff81d5-55d1-44a9-d398-36fcced93790"
   },
   "outputs": [],
   "source": [
    "# Proporção das clases\n",
    "\n",
    "print(df_f1.EVOLUCAO.value_counts())\n",
    "print(\"\\nOs Targets representam {:.2f}% do dataset.\\n\".format((df_f1[df_f1.EVOLUCAO == 1].shape[0] / df_f1.shape[0]) * 100))"
   ]
  },
  {
   "cell_type": "code",
   "execution_count": null,
   "metadata": {
    "colab": {
     "base_uri": "https://localhost:8080/"
    },
    "hidden": true,
    "id": "RtGl0vIjnBk0",
    "outputId": "a7103036-3521-43f0-c202-5f43f1b6d02d"
   },
   "outputs": [],
   "source": [
    "df_f1.info()"
   ]
  },
  {
   "cell_type": "code",
   "execution_count": null,
   "metadata": {
    "colab": {
     "base_uri": "https://localhost:8080/"
    },
    "hidden": true,
    "id": "ys7SqCTJwLMT",
    "outputId": "54b8c88a-eab6-49f0-b5a7-dda36a0708d5"
   },
   "outputs": [],
   "source": [
    "df_f1.isnull().sum()"
   ]
  },
  {
   "cell_type": "code",
   "execution_count": null,
   "metadata": {
    "hidden": true,
    "id": "Hh8RaTfowRtr"
   },
   "outputs": [],
   "source": [
    "df_filtradox = pd.read_csv('alta_complexidade_sagr001.csv')"
   ]
  },
  {
   "cell_type": "code",
   "execution_count": null,
   "metadata": {
    "hidden": true,
    "id": "p5mJUFf2jiZi"
   },
   "outputs": [],
   "source": [
    "df_f2 = df_filtradox.loc[:, ~df_filtradox.columns.str.contains('^Unnamed')]"
   ]
  },
  {
   "cell_type": "code",
   "execution_count": null,
   "metadata": {
    "colab": {
     "base_uri": "https://localhost:8080/"
    },
    "hidden": true,
    "id": "2XYvby5fjCeQ",
    "outputId": "0fab4a3b-9ddf-41cc-c2a0-384d009e8254"
   },
   "outputs": [],
   "source": [
    "df_f2.shape"
   ]
  },
  {
   "cell_type": "code",
   "execution_count": null,
   "metadata": {
    "colab": {
     "base_uri": "https://localhost:8080/"
    },
    "hidden": true,
    "id": "2pkvCLRdjGdi",
    "outputId": "f123d625-6385-4d84-d69c-2ecf8aed2cdc"
   },
   "outputs": [],
   "source": [
    "df_filtradox.info()"
   ]
  },
  {
   "cell_type": "code",
   "execution_count": null,
   "metadata": {
    "hidden": true,
    "id": "h1pbBdbkjVAv"
   },
   "outputs": [],
   "source": [
    "df_f2.to_csv('alta_complexidade_sagr001.csv')"
   ]
  },
  {
   "cell_type": "code",
   "execution_count": null,
   "metadata": {
    "hidden": true,
    "id": "ZZMfNdIcjxxG"
   },
   "outputs": [],
   "source": []
  }
 ],
 "metadata": {
  "colab": {
   "collapsed_sections": [],
   "provenance": []
  },
  "kernelspec": {
   "display_name": "Python 3 (ipykernel)",
   "language": "python",
   "name": "python3"
  },
  "language_info": {
   "codemirror_mode": {
    "name": "ipython",
    "version": 3
   },
   "file_extension": ".py",
   "mimetype": "text/x-python",
   "name": "python",
   "nbconvert_exporter": "python",
   "pygments_lexer": "ipython3",
   "version": "3.9.13"
  }
 },
 "nbformat": 4,
 "nbformat_minor": 1
}
