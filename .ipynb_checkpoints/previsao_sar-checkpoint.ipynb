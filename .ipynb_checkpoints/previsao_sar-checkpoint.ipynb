{
 "cells": [
  {
   "cell_type": "markdown",
   "metadata": {},
   "source": [
    "# Previsão de Alta Complexidade de casos SAR"
   ]
  },
  {
   "cell_type": "markdown",
   "metadata": {},
   "source": [
    "SAR (Sindrome aguda respiratória) "
   ]
  },
  {
   "cell_type": "markdown",
   "metadata": {
    "heading_collapsed": true
   },
   "source": [
    "# Imports"
   ]
  },
  {
   "cell_type": "code",
   "execution_count": 1,
   "metadata": {
    "ExecuteTime": {
     "end_time": "2022-10-12T15:39:23.661862Z",
     "start_time": "2022-10-12T15:39:19.774440Z"
    },
    "hidden": true,
    "id": "-4ZsJeBBtQjm"
   },
   "outputs": [],
   "source": [
    "import pandas as pd \n",
    "\n",
    "import pandas as pd\n",
    "import math\n",
    "import numpy as np\n",
    "import inflection\n",
    "import seaborn as sns \n",
    "import matplotlib.pyplot as plt\n",
    "import matplotlib.gridspec as gridspec\n",
    "import xgboost as xgb\n",
    "import datetime"
   ]
  },
  {
   "cell_type": "markdown",
   "metadata": {
    "heading_collapsed": true,
    "hidden": true
   },
   "source": [
    "## Funções Auxiliares"
   ]
  },
  {
   "cell_type": "code",
   "execution_count": 2,
   "metadata": {
    "ExecuteTime": {
     "end_time": "2022-10-12T15:39:23.676854Z",
     "start_time": "2022-10-12T15:39:23.666860Z"
    },
    "hidden": true,
    "id": "qDZUTOD8ufLa"
   },
   "outputs": [],
   "source": [
    "# mostrar todas as colunas\n",
    "pd.set_option('display.max_columns', None)"
   ]
  },
  {
   "cell_type": "markdown",
   "metadata": {},
   "source": [
    "# Descrição dos Dados"
   ]
  },
  {
   "cell_type": "markdown",
   "metadata": {
    "heading_collapsed": true
   },
   "source": [
    "## Carga dos Dados"
   ]
  },
  {
   "cell_type": "code",
   "execution_count": 3,
   "metadata": {
    "ExecuteTime": {
     "end_time": "2022-10-12T15:39:26.483094Z",
     "start_time": "2022-10-12T15:39:23.679852Z"
    },
    "colab": {
     "base_uri": "https://localhost:8080/"
    },
    "hidden": true,
    "id": "C4OKVvGbtTuQ",
    "outputId": "e56d6cc7-f370-4740-f749-924da262977b"
   },
   "outputs": [],
   "source": [
    "# Lendo CSV \n",
    "df = pd.read_csv('C:/Users/Dell/Documents/Modelos/sar/csv/alto_risco_sagr.csv', engine=\"python\", sep=',', quotechar='\"', error_bad_lines=False)"
   ]
  },
  {
   "cell_type": "code",
   "execution_count": 4,
   "metadata": {
    "ExecuteTime": {
     "end_time": "2022-10-12T15:39:26.544568Z",
     "start_time": "2022-10-12T15:39:26.496592Z"
    },
    "hidden": true
   },
   "outputs": [],
   "source": [
    "df = df.loc[:, ~df.columns.str.contains('^Unnamed')] "
   ]
  },
  {
   "cell_type": "code",
   "execution_count": 5,
   "metadata": {
    "ExecuteTime": {
     "end_time": "2022-10-12T15:39:26.575585Z",
     "start_time": "2022-10-12T15:39:26.548565Z"
    },
    "colab": {
     "base_uri": "https://localhost:8080/",
     "height": 496
    },
    "hidden": true,
    "id": "2CgDZMHBtikC",
    "outputId": "8aee68eb-6de4-499c-ada7-22a60f34ee50"
   },
   "outputs": [
    {
     "data": {
      "text/plain": [
       "(52653, 41)"
      ]
     },
     "execution_count": 5,
     "metadata": {},
     "output_type": "execute_result"
    }
   ],
   "source": [
    "df.shape "
   ]
  },
  {
   "cell_type": "markdown",
   "metadata": {
    "heading_collapsed": true
   },
   "source": [
    "## Renomear Colunas"
   ]
  },
  {
   "cell_type": "code",
   "execution_count": 6,
   "metadata": {
    "ExecuteTime": {
     "end_time": "2022-10-12T15:39:26.605567Z",
     "start_time": "2022-10-12T15:39:26.579582Z"
    },
    "hidden": true,
    "id": "tDfGAX5HhyAW"
   },
   "outputs": [],
   "source": [
    "cols_old = ['DT_NOTIFIC', 'SEM_NOT', 'DT_SIN_PRI', 'SEM_PRI', 'SG_UF_NOT',\n",
    "       'ID_MUNICIP', 'CS_SEXO', 'NU_IDADE_N', 'CS_GESTANT', 'CS_RACA',\n",
    "       'CS_ZONA', 'NOSOCOMIAL', 'FEBRE', 'TOSSE', 'GARGANTA', 'DISPNEIA',\n",
    "       'DESC_RESP', 'SATURACAO', 'DIARREIA', 'VOMITO', 'CARDIOPATI',\n",
    "       'HEMATOLOGI', 'SIND_DOWN', 'HEPATICA', 'ASMA', 'DIABETES', 'NEUROLOGIC',\n",
    "       'PNEUMOPATI', 'IMUNODEPRE', 'RENAL', 'OBESIDADE', 'VACINA', 'ANTIVIRAL',\n",
    "       'RAIOX_RES', 'PCR_RESUL', 'EVOLUCAO', 'DOR_ABD', 'FADIGA', 'PERD_OLFT',\n",
    "       'PERD_PALA', 'VACINA_COV']\n",
    "snakecase = lambda x: inflection.underscore(x) \n",
    "cols_new = list(map(snakecase, cols_old)) \n",
    "#rename \n",
    "df.columns = cols_new "
   ]
  },
  {
   "cell_type": "markdown",
   "metadata": {
    "ExecuteTime": {
     "end_time": "2022-10-12T15:32:53.148490Z",
     "start_time": "2022-10-12T15:32:53.129496Z"
    },
    "heading_collapsed": true
   },
   "source": [
    "## Dimensão Dataset"
   ]
  },
  {
   "cell_type": "code",
   "execution_count": 8,
   "metadata": {
    "ExecuteTime": {
     "end_time": "2022-10-12T15:39:50.616994Z",
     "start_time": "2022-10-12T15:39:50.576014Z"
    },
    "hidden": true
   },
   "outputs": [
    {
     "name": "stdout",
     "output_type": "stream",
     "text": [
      "Numero de filas: 52653\n",
      "Numero de colunas: 41\n",
      "\n",
      "Os Targets representam 27.60% do dataset.\n",
      "\n"
     ]
    }
   ],
   "source": [
    "print('Numero de filas: {}'.format(df.shape[0])) \n",
    "print('Numero de colunas: {}'.format(df.shape[1])) \n",
    "print(\"\\nOs Targets representam {:.2f}% do dataset.\\n\".format((df[df.evolucao == 1].shape[0] / df.shape[0]) * 100))"
   ]
  },
  {
   "cell_type": "markdown",
   "metadata": {
    "heading_collapsed": true
   },
   "source": [
    "## Tipo Dados"
   ]
  },
  {
   "cell_type": "code",
   "execution_count": 12,
   "metadata": {
    "ExecuteTime": {
     "end_time": "2022-10-12T15:44:48.393157Z",
     "start_time": "2022-10-12T15:44:48.375165Z"
    },
    "hidden": true
   },
   "outputs": [
    {
     "data": {
      "text/plain": [
       "dt_notific    datetime64[ns]\n",
       "sem_not                int64\n",
       "dt_sin_pri    datetime64[ns]\n",
       "sem_pri                int64\n",
       "sg_uf_not             object\n",
       "id_municip            object\n",
       "cs_sexo               object\n",
       "nu_idade_n             int64\n",
       "cs_gestant             int64\n",
       "cs_raca                int64\n",
       "cs_zona              float64\n",
       "nosocomial           float64\n",
       "febre                float64\n",
       "tosse                float64\n",
       "garganta             float64\n",
       "dispneia             float64\n",
       "desc_resp            float64\n",
       "saturacao            float64\n",
       "diarreia             float64\n",
       "vomito               float64\n",
       "cardiopati           float64\n",
       "hematologi           float64\n",
       "sind_down            float64\n",
       "hepatica             float64\n",
       "asma                 float64\n",
       "diabetes             float64\n",
       "neurologic           float64\n",
       "pneumopati           float64\n",
       "imunodepre           float64\n",
       "renal                float64\n",
       "obesidade            float64\n",
       "vacina               float64\n",
       "antiviral            float64\n",
       "raiox_res            float64\n",
       "pcr_resul            float64\n",
       "evolucao               int64\n",
       "dor_abd              float64\n",
       "fadiga               float64\n",
       "perd_olft            float64\n",
       "perd_pala            float64\n",
       "vacina_cov           float64\n",
       "dtype: object"
      ]
     },
     "execution_count": 12,
     "metadata": {},
     "output_type": "execute_result"
    }
   ],
   "source": [
    "df.dtypes "
   ]
  },
  {
   "cell_type": "markdown",
   "metadata": {
    "ExecuteTime": {
     "end_time": "2022-10-12T15:39:30.641176Z",
     "start_time": "2022-10-12T15:39:30.641176Z"
    },
    "heading_collapsed": true
   },
   "source": [
    "## Modificando Tipo Data"
   ]
  },
  {
   "cell_type": "code",
   "execution_count": 11,
   "metadata": {
    "ExecuteTime": {
     "end_time": "2022-10-12T15:44:44.808685Z",
     "start_time": "2022-10-12T15:44:44.759311Z"
    },
    "hidden": true
   },
   "outputs": [],
   "source": [
    "df['dt_notific'] = pd.to_datetime(df['dt_notific'])\n",
    "df['dt_sin_pri'] = pd.to_datetime(df['dt_sin_pri'])\n"
   ]
  },
  {
   "cell_type": "markdown",
   "metadata": {},
   "source": [
    "## Identificando NA "
   ]
  },
  {
   "cell_type": "code",
   "execution_count": 13,
   "metadata": {
    "ExecuteTime": {
     "end_time": "2022-10-12T15:45:37.485687Z",
     "start_time": "2022-10-12T15:45:37.437715Z"
    }
   },
   "outputs": [
    {
     "data": {
      "text/plain": [
       "dt_notific        0\n",
       "sem_not           0\n",
       "dt_sin_pri        0\n",
       "sem_pri           0\n",
       "sg_uf_not         0\n",
       "id_municip        0\n",
       "cs_sexo           0\n",
       "nu_idade_n        0\n",
       "cs_gestant        0\n",
       "cs_raca           0\n",
       "cs_zona        3043\n",
       "nosocomial     9787\n",
       "febre          6075\n",
       "tosse          3926\n",
       "garganta      11483\n",
       "dispneia       3544\n",
       "desc_resp      6979\n",
       "saturacao      4794\n",
       "diarreia      11500\n",
       "vomito        11810\n",
       "cardiopati    24902\n",
       "hematologi    29325\n",
       "sind_down     29395\n",
       "hepatica      29405\n",
       "asma          28975\n",
       "diabetes      26315\n",
       "neurologic    29023\n",
       "pneumopati    28939\n",
       "imunodepre    29236\n",
       "renal         28992\n",
       "obesidade     28368\n",
       "vacina        13842\n",
       "antiviral      9349\n",
       "raiox_res     16323\n",
       "pcr_resul      4500\n",
       "evolucao          0\n",
       "dor_abd       12656\n",
       "fadiga        11009\n",
       "perd_olft     12302\n",
       "perd_pala     12282\n",
       "vacina_cov    12537\n",
       "dtype: int64"
      ]
     },
     "execution_count": 13,
     "metadata": {},
     "output_type": "execute_result"
    }
   ],
   "source": [
    "df.isnull().sum()"
   ]
  },
  {
   "cell_type": "code",
   "execution_count": null,
   "metadata": {},
   "outputs": [],
   "source": []
  },
  {
   "cell_type": "code",
   "execution_count": null,
   "metadata": {},
   "outputs": [],
   "source": []
  },
  {
   "cell_type": "code",
   "execution_count": null,
   "metadata": {},
   "outputs": [],
   "source": []
  },
  {
   "cell_type": "code",
   "execution_count": null,
   "metadata": {},
   "outputs": [],
   "source": []
  },
  {
   "cell_type": "code",
   "execution_count": null,
   "metadata": {},
   "outputs": [],
   "source": []
  },
  {
   "cell_type": "code",
   "execution_count": null,
   "metadata": {},
   "outputs": [],
   "source": []
  }
 ],
 "metadata": {
  "colab": {
   "collapsed_sections": [],
   "provenance": []
  },
  "kernelspec": {
   "display_name": "Python 3 (ipykernel)",
   "language": "python",
   "name": "python3"
  },
  "language_info": {
   "codemirror_mode": {
    "name": "ipython",
    "version": 3
   },
   "file_extension": ".py",
   "mimetype": "text/x-python",
   "name": "python",
   "nbconvert_exporter": "python",
   "pygments_lexer": "ipython3",
   "version": "3.9.13"
  }
 },
 "nbformat": 4,
 "nbformat_minor": 1
}
